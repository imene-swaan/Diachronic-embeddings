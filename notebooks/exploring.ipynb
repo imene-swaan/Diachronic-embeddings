{
 "cells": [
  {
   "cell_type": "code",
   "execution_count": 1,
   "metadata": {},
   "outputs": [
    {
     "name": "stdout",
     "output_type": "stream",
     "text": [
      "Found 100585 articles\n"
     ]
    }
   ],
   "source": [
    "with open('../input/articles/2015_articles.txt', 'r') as f:\n",
    "    articles = f.readlines()\n",
    "    print(f'Found {len(articles)} articles')"
   ]
  },
  {
   "cell_type": "code",
   "execution_count": 2,
   "metadata": {},
   "outputs": [
    {
     "data": {
      "text/plain": [
       "\"''american success,'' which like ''winter kills'' is a supremely playful and visually witty movie, finds the same handsome stars - jeff bridges and belinda bauer - in even more farfetched circumstances. in ''winter kills,'' mr. bridges played the heir to a wicked old entrepreneur's colossal fortune, and miss bauer played a spy and temptress with a part-time job at a women's magazine. this time, they're cast as a married couple, harry and sarah flowers, who have problems. harry's problem is sarah, and sarah's problem is that she spends her days dressed as a ballerina with butterfly wings. she is meant to be a fairy-tale figure, an enchanted princess who can't possibly meet the demands of everyday life. when harry interrupts her reveries to try to make love to her, sarah complains bitterly that he's breaking their conjugal rules. he can't try this. it isn't friday. the story follows harry's efforts to transform himself into sarah's idea of a real man, and to rob her financier father in the process. harry changes his identity, rents a red sports car with black-andwhite checked seats and is taught the mysteries of sex by a backstreet prostitute played by bianca jagger, who sports more diamonds than any backstreet prostitute might even dream of. mrs. jagger, who brings a don't-rumple-my-hair demeanor to her scenes of seductive abandon, is only one of the many anomalies that keep the film perversely interesting. another is the disheveled detective, played by steven keats, who's so down at the heels that the only way he can follow a man is by hopping into the front seat of his prey's taxi. he's too broke to afford a taxi of his own. mr. richert, who wrote the screenplay with larry cohen, doesn't have much of a knack for presenting the authentically satirical aspects of his story in a manner that might allow them to be taken seriously. his film is much too facetious for that, and when its whimsy isn't working, there's not much else going on. however, though it periodically wears thin, ''american success'' is a buoyant and enterprising movie more often than not, and what it lacks in coherence it makes up in dash. mr. richert may well make a wonderfully funny and stylish movie some day. on the other hand, even if he continues to produce relatively half-baked efforts like this one, they're sure to be energetic and merry. on the bill with ''american success'' - the title echoes the name of the well-known credit-card company mr. beatty is supposed to head - is ''couples and robbers,'' a short written and directed by clare peploe. this is a brief and ostensibly fanciful look at two newlyweds who launch their marriage by committing an ingenious robbery and by composing a very long list of the appliances and amenities they consider essential to their future happiness.              ''couples and robbers,'' though proficiently executed, is somewhat flat, particularly when juxtaposed with mr. richert's far more irreverent view of consumer culture and the dreams it engenders. janet maslin                                       only on fridays                                       american success, directed by william ri- chert; screenplay by mr. richert and larry cohen; story by mr. cohen; director of photography, anthony richmond; film editor, ralph e. winters; music by maurice jarre; produced by daniel h. blatt and edgar j. scherick; released by columbia pictures; presented by joseph papp in association with the fdm foundation for the arts. at the public theater, 425 lafayette street. running time: 88 minutes. this film is rated pg.                                       harry . . . . . jeff bridges                          sarah . . . . . belinda bauer                          mr. elliot . . . . . ned beatty                          rick duprez . . . . . steven keats                          corinne . . . . . bianca jagger                          ernst . . . . . john glover                          greta . . . . . mascha gonska                          herman . . . . . michael durrell                          mrs. heinemann . . . . . eva-maria meineke                          maire d'hotel . . . . . gunter meisner                          gunter . . . . . david brooks                          landlady . . . . . marie bardischewski                          young magician . . . . . sebastian baur                          amucco guard . . . . . peer brensing                          red-headed lady friend . . . . . judy brown                          rental agent . . . . . michael burger                          charles . . . . . andrew burleigh                          herman's secretary . . . . . claudia butenuth                          lichtenstein . . . . . peter capell\\n\""
      ]
     },
     "execution_count": 2,
     "metadata": {},
     "output_type": "execute_result"
    }
   ],
   "source": [
    "articles[0]"
   ]
  },
  {
   "cell_type": "code",
   "execution_count": 3,
   "metadata": {},
   "outputs": [
    {
     "data": {
      "text/plain": [
       "743"
      ]
     },
     "execution_count": 3,
     "metadata": {},
     "output_type": "execute_result"
    }
   ],
   "source": [
    "len(articles[0].split())"
   ]
  },
  {
   "cell_type": "code",
   "execution_count": 4,
   "metadata": {},
   "outputs": [],
   "source": [
    "from huggingface_hub import notebook_login"
   ]
  },
  {
   "cell_type": "code",
   "execution_count": 5,
   "metadata": {},
   "outputs": [
    {
     "data": {
      "application/vnd.jupyter.widget-view+json": {
       "model_id": "e9bf4e2a7df446e6a9847ce87679630e",
       "version_major": 2,
       "version_minor": 0
      },
      "text/plain": [
       "VBox(children=(HTML(value='<center> <img\\nsrc=https://huggingface.co/front/assets/huggingface_logo-noborder.sv…"
      ]
     },
     "metadata": {},
     "output_type": "display_data"
    }
   ],
   "source": [
    "notebook_login()"
   ]
  },
  {
   "cell_type": "code",
   "execution_count": 6,
   "metadata": {},
   "outputs": [],
   "source": [
    "from transformers import AutoTokenizer"
   ]
  },
  {
   "cell_type": "code",
   "execution_count": 7,
   "metadata": {},
   "outputs": [
    {
     "data": {
      "application/vnd.jupyter.widget-view+json": {
       "model_id": "8f50d6a3c8dd4389b2808a67a20b03d9",
       "version_major": 2,
       "version_minor": 0
      },
      "text/plain": [
       "Downloading (…)olve/main/vocab.json:   0%|          | 0.00/899k [00:00<?, ?B/s]"
      ]
     },
     "metadata": {},
     "output_type": "display_data"
    },
    {
     "data": {
      "application/vnd.jupyter.widget-view+json": {
       "model_id": "70c65c7bb0fd46109654e95d9615a1a6",
       "version_major": 2,
       "version_minor": 0
      },
      "text/plain": [
       "Downloading (…)olve/main/merges.txt:   0%|          | 0.00/456k [00:00<?, ?B/s]"
      ]
     },
     "metadata": {},
     "output_type": "display_data"
    },
    {
     "data": {
      "application/vnd.jupyter.widget-view+json": {
       "model_id": "bbcf4f47f7c3480c8f445c57588abdb8",
       "version_major": 2,
       "version_minor": 0
      },
      "text/plain": [
       "Downloading (…)/main/tokenizer.json:   0%|          | 0.00/1.36M [00:00<?, ?B/s]"
      ]
     },
     "metadata": {},
     "output_type": "display_data"
    }
   ],
   "source": [
    "tokenizer = AutoTokenizer.from_pretrained(\"distilroberta-base\")"
   ]
  },
  {
   "cell_type": "code",
   "execution_count": null,
   "metadata": {},
   "outputs": [],
   "source": []
  }
 ],
 "metadata": {
  "kernelspec": {
   "display_name": "imenepy",
   "language": "python",
   "name": "python3"
  },
  "language_info": {
   "codemirror_mode": {
    "name": "ipython",
    "version": 3
   },
   "file_extension": ".py",
   "mimetype": "text/x-python",
   "name": "python",
   "nbconvert_exporter": "python",
   "pygments_lexer": "ipython3",
   "version": "3.10.11"
  },
  "orig_nbformat": 4
 },
 "nbformat": 4,
 "nbformat_minor": 2
}
